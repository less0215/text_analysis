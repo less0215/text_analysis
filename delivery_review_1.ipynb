{
 "cells": [
  {
   "cell_type": "markdown",
   "metadata": {},
   "source": [
    "### \"리뷰를 길게 남긴 사람은 뭐라고 작성했을까?\""
   ]
  },
  {
   "cell_type": "markdown",
   "metadata": {},
   "source": [
    "(1) 데이터 불러오기 및 확인하기"
   ]
  },
  {
   "cell_type": "code",
   "execution_count": null,
   "metadata": {},
   "outputs": [],
   "source": [
    "# pip install pandas"
   ]
  },
  {
   "cell_type": "code",
   "execution_count": 7,
   "metadata": {},
   "outputs": [
    {
     "data": {
      "text/html": [
       "<div>\n",
       "<style scoped>\n",
       "    .dataframe tbody tr th:only-of-type {\n",
       "        vertical-align: middle;\n",
       "    }\n",
       "\n",
       "    .dataframe tbody tr th {\n",
       "        vertical-align: top;\n",
       "    }\n",
       "\n",
       "    .dataframe thead th {\n",
       "        text-align: right;\n",
       "    }\n",
       "</style>\n",
       "<table border=\"1\" class=\"dataframe\">\n",
       "  <thead>\n",
       "    <tr style=\"text-align: right;\">\n",
       "      <th></th>\n",
       "      <th>URL</th>\n",
       "      <th>NAME</th>\n",
       "      <th>RATING</th>\n",
       "      <th>CONTENT</th>\n",
       "      <th>MENU</th>\n",
       "      <th>DATE</th>\n",
       "      <th>created_at</th>\n",
       "    </tr>\n",
       "  </thead>\n",
       "  <tbody>\n",
       "    <tr>\n",
       "      <th>0</th>\n",
       "      <td>https://s.baemin.com/9vx.diiu6</td>\n",
       "      <td>놀자비나리</td>\n",
       "      <td>5.0</td>\n",
       "      <td>맛있게먹었ㅇ니요</td>\n",
       "      <td>찐~목살김치찜</td>\n",
       "      <td>오늘</td>\n",
       "      <td>2024-07-29 18:06:19 +0900</td>\n",
       "    </tr>\n",
       "    <tr>\n",
       "      <th>1</th>\n",
       "      <td>https://s.baemin.com/9vx.diiu6</td>\n",
       "      <td>호평동</td>\n",
       "      <td>5.0</td>\n",
       "      <td>ㅂㅐ달도 빠르고 리뷰로 목살 추가했더니 고기가 김치보다 더 많아졌어요 ~~! 김치 ...</td>\n",
       "      <td>통삼겹김치찜[밥X, 반찬X]</td>\n",
       "      <td>오늘</td>\n",
       "      <td>2024-07-29 18:06:19 +0900</td>\n",
       "    </tr>\n",
       "    <tr>\n",
       "      <th>2</th>\n",
       "      <td>https://s.baemin.com/9vx.diiu6</td>\n",
       "      <td>깽미니</td>\n",
       "      <td>5.0</td>\n",
       "      <td>맛있네요  잘먹었습니다 \\n담에 시켜먹겠습니다</td>\n",
       "      <td>[1인분]목살김치찜</td>\n",
       "      <td>어제</td>\n",
       "      <td>2024-07-29 18:06:20 +0900</td>\n",
       "    </tr>\n",
       "    <tr>\n",
       "      <th>3</th>\n",
       "      <td>https://s.baemin.com/9vx.diiu6</td>\n",
       "      <td>칰힌칰힌</td>\n",
       "      <td>5.0</td>\n",
       "      <td>진짜 마시써요</td>\n",
       "      <td>찐~통삼겹김치찜</td>\n",
       "      <td>그제</td>\n",
       "      <td>2024-07-29 18:06:20 +0900</td>\n",
       "    </tr>\n",
       "    <tr>\n",
       "      <th>4</th>\n",
       "      <td>https://s.baemin.com/9vx.diiu6</td>\n",
       "      <td>핑돌</td>\n",
       "      <td>5.0</td>\n",
       "      <td>맛있게 잘먹었습니다 👍👍👍👍👍👍</td>\n",
       "      <td>[1인분]통삼겹김치찜</td>\n",
       "      <td>지난 주</td>\n",
       "      <td>2024-07-29 18:06:20 +0900</td>\n",
       "    </tr>\n",
       "  </tbody>\n",
       "</table>\n",
       "</div>"
      ],
      "text/plain": [
       "                              URL   NAME  RATING  \\\n",
       "0  https://s.baemin.com/9vx.diiu6  놀자비나리     5.0   \n",
       "1  https://s.baemin.com/9vx.diiu6    호평동     5.0   \n",
       "2  https://s.baemin.com/9vx.diiu6    깽미니     5.0   \n",
       "3  https://s.baemin.com/9vx.diiu6   칰힌칰힌     5.0   \n",
       "4  https://s.baemin.com/9vx.diiu6     핑돌     5.0   \n",
       "\n",
       "                                             CONTENT             MENU  DATE  \\\n",
       "0                                           맛있게먹었ㅇ니요          찐~목살김치찜    오늘   \n",
       "1  ㅂㅐ달도 빠르고 리뷰로 목살 추가했더니 고기가 김치보다 더 많아졌어요 ~~! 김치 ...  통삼겹김치찜[밥X, 반찬X]    오늘   \n",
       "2                          맛있네요  잘먹었습니다 \\n담에 시켜먹겠습니다       [1인분]목살김치찜    어제   \n",
       "3                                            진짜 마시써요         찐~통삼겹김치찜    그제   \n",
       "4                                  맛있게 잘먹었습니다 👍👍👍👍👍👍      [1인분]통삼겹김치찜  지난 주   \n",
       "\n",
       "                  created_at  \n",
       "0  2024-07-29 18:06:19 +0900  \n",
       "1  2024-07-29 18:06:19 +0900  \n",
       "2  2024-07-29 18:06:20 +0900  \n",
       "3  2024-07-29 18:06:20 +0900  \n",
       "4  2024-07-29 18:06:20 +0900  "
      ]
     },
     "execution_count": 7,
     "metadata": {},
     "output_type": "execute_result"
    }
   ],
   "source": [
    "import pandas as pd\n",
    "\n",
    "df = pd.read_excel('92년생김치찜.xlsx')\n",
    "df.head()"
   ]
  },
  {
   "cell_type": "markdown",
   "metadata": {},
   "source": [
    "(2) 분석 대상 결측치 확인하기"
   ]
  },
  {
   "cell_type": "code",
   "execution_count": 12,
   "metadata": {},
   "outputs": [
    {
     "data": {
      "text/plain": [
       "np.int64(0)"
      ]
     },
     "execution_count": 12,
     "metadata": {},
     "output_type": "execute_result"
    }
   ],
   "source": [
    "df['CONTENT'].isnull().sum()"
   ]
  },
  {
   "cell_type": "markdown",
   "metadata": {},
   "source": [
    "(3) 분석 대상 내에 있는 결측치(NaN) 제거하기"
   ]
  },
  {
   "cell_type": "code",
   "execution_count": 13,
   "metadata": {},
   "outputs": [
    {
     "data": {
      "text/plain": [
       "np.int64(0)"
      ]
     },
     "execution_count": 13,
     "metadata": {},
     "output_type": "execute_result"
    }
   ],
   "source": [
    "df = df.dropna(subset=['CONTENT'])\n",
    "df['CONTENT'].isnull().sum()"
   ]
  },
  {
   "cell_type": "markdown",
   "metadata": {},
   "source": [
    "(4) 가장 긴 문자열(텍스트) 확인하기"
   ]
  },
  {
   "cell_type": "code",
   "execution_count": 15,
   "metadata": {},
   "outputs": [
    {
     "data": {
      "text/plain": [
       "0      8\n",
       "1     56\n",
       "2     24\n",
       "3      7\n",
       "4     17\n",
       "      ..\n",
       "92    51\n",
       "94    30\n",
       "95    24\n",
       "96    22\n",
       "99     7\n",
       "Name: CONTENT, Length: 74, dtype: int64"
      ]
     },
     "execution_count": 15,
     "metadata": {},
     "output_type": "execute_result"
    }
   ],
   "source": [
    "df['CONTENT'].str.len()"
   ]
  },
  {
   "cell_type": "code",
   "execution_count": 17,
   "metadata": {},
   "outputs": [
    {
     "data": {
      "text/html": [
       "<div>\n",
       "<style scoped>\n",
       "    .dataframe tbody tr th:only-of-type {\n",
       "        vertical-align: middle;\n",
       "    }\n",
       "\n",
       "    .dataframe tbody tr th {\n",
       "        vertical-align: top;\n",
       "    }\n",
       "\n",
       "    .dataframe thead th {\n",
       "        text-align: right;\n",
       "    }\n",
       "</style>\n",
       "<table border=\"1\" class=\"dataframe\">\n",
       "  <thead>\n",
       "    <tr style=\"text-align: right;\">\n",
       "      <th></th>\n",
       "      <th>CONTENT</th>\n",
       "      <th>review_length</th>\n",
       "    </tr>\n",
       "  </thead>\n",
       "  <tbody>\n",
       "    <tr>\n",
       "      <th>20</th>\n",
       "      <td>김치찜은 우리엄마꺼가 제일맛있었는데...\\n한입먹자마자 소리질렀잖아요ㅜㅜ\\n초딩이 ...</td>\n",
       "      <td>145</td>\n",
       "    </tr>\n",
       "    <tr>\n",
       "      <th>71</th>\n",
       "      <td>정말~~  맛있어요.\\n김치찜 좋아하는 1인으로~~~\\n만족이 없어 마음먹고 집에서...</td>\n",
       "      <td>101</td>\n",
       "    </tr>\n",
       "    <tr>\n",
       "      <th>56</th>\n",
       "      <td>대박김치찜 집이 없어져서 속상했는데.. 드디어 맛집을 발견했네요~~ 너무 맛있었어요...</td>\n",
       "      <td>100</td>\n",
       "    </tr>\n",
       "    <tr>\n",
       "      <th>26</th>\n",
       "      <td>계란후라이 반숙 요청드렸는데 완숙으로 왔어요 오면서 익은 거 같아요 ㅠㅠ 매운맛  ...</td>\n",
       "      <td>98</td>\n",
       "    </tr>\n",
       "    <tr>\n",
       "      <th>58</th>\n",
       "      <td>봉지에 김치국물이 다 새서와서 다시해다주셨습니다ㅠ 식사시간이 많이 늦어져서 아쉬웠고...</td>\n",
       "      <td>96</td>\n",
       "    </tr>\n",
       "    <tr>\n",
       "      <th>...</th>\n",
       "      <td>...</td>\n",
       "      <td>...</td>\n",
       "    </tr>\n",
       "    <tr>\n",
       "      <th>49</th>\n",
       "      <td>맛있어요 ㅎㅎ</td>\n",
       "      <td>7</td>\n",
       "    </tr>\n",
       "    <tr>\n",
       "      <th>38</th>\n",
       "      <td>맛이괜찮아요</td>\n",
       "      <td>6</td>\n",
       "    </tr>\n",
       "    <tr>\n",
       "      <th>50</th>\n",
       "      <td>맛있었어요~</td>\n",
       "      <td>6</td>\n",
       "    </tr>\n",
       "    <tr>\n",
       "      <th>78</th>\n",
       "      <td>맛있어요!!</td>\n",
       "      <td>6</td>\n",
       "    </tr>\n",
       "    <tr>\n",
       "      <th>27</th>\n",
       "      <td>맛있습니다</td>\n",
       "      <td>5</td>\n",
       "    </tr>\n",
       "  </tbody>\n",
       "</table>\n",
       "<p>74 rows × 2 columns</p>\n",
       "</div>"
      ],
      "text/plain": [
       "                                              CONTENT  review_length\n",
       "20  김치찜은 우리엄마꺼가 제일맛있었는데...\\n한입먹자마자 소리질렀잖아요ㅜㅜ\\n초딩이 ...            145\n",
       "71  정말~~  맛있어요.\\n김치찜 좋아하는 1인으로~~~\\n만족이 없어 마음먹고 집에서...            101\n",
       "56  대박김치찜 집이 없어져서 속상했는데.. 드디어 맛집을 발견했네요~~ 너무 맛있었어요...            100\n",
       "26  계란후라이 반숙 요청드렸는데 완숙으로 왔어요 오면서 익은 거 같아요 ㅠㅠ 매운맛  ...             98\n",
       "58  봉지에 김치국물이 다 새서와서 다시해다주셨습니다ㅠ 식사시간이 많이 늦어져서 아쉬웠고...             96\n",
       "..                                                ...            ...\n",
       "49                                            맛있어요 ㅎㅎ              7\n",
       "38                                             맛이괜찮아요              6\n",
       "50                                             맛있었어요~              6\n",
       "78                                             맛있어요!!              6\n",
       "27                                              맛있습니다              5\n",
       "\n",
       "[74 rows x 2 columns]"
      ]
     },
     "execution_count": 17,
     "metadata": {},
     "output_type": "execute_result"
    }
   ],
   "source": [
    "# 텍스트 길이 긴 리뷰를 알아 보는 방법\n",
    "df['review_length'] = df['CONTENT'].str.len()\n",
    "\n",
    "# 긴 텍스트 리뷰와 내용을 함께 보는 방법\n",
    "df.sort_values('review_length', ascending=False)[['CONTENT', 'review_length']]"
   ]
  }
 ],
 "metadata": {
  "kernelspec": {
   "display_name": "Python 3",
   "language": "python",
   "name": "python3"
  },
  "language_info": {
   "codemirror_mode": {
    "name": "ipython",
    "version": 3
   },
   "file_extension": ".py",
   "mimetype": "text/x-python",
   "name": "python",
   "nbconvert_exporter": "python",
   "pygments_lexer": "ipython3",
   "version": "3.12.4"
  }
 },
 "nbformat": 4,
 "nbformat_minor": 2
}
