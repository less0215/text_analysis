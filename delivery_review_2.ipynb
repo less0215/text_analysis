{
 "cells": [
  {
   "cell_type": "markdown",
   "metadata": {},
   "source": [
    "### 재구매한 고객은 어떤 리뷰를 달았을까?"
   ]
  },
  {
   "cell_type": "markdown",
   "metadata": {},
   "source": [
    "(1) 데이터 불러오기 및 확인하기"
   ]
  },
  {
   "cell_type": "code",
   "execution_count": 33,
   "metadata": {},
   "outputs": [
    {
     "data": {
      "text/html": [
       "<div>\n",
       "<style scoped>\n",
       "    .dataframe tbody tr th:only-of-type {\n",
       "        vertical-align: middle;\n",
       "    }\n",
       "\n",
       "    .dataframe tbody tr th {\n",
       "        vertical-align: top;\n",
       "    }\n",
       "\n",
       "    .dataframe thead th {\n",
       "        text-align: right;\n",
       "    }\n",
       "</style>\n",
       "<table border=\"1\" class=\"dataframe\">\n",
       "  <thead>\n",
       "    <tr style=\"text-align: right;\">\n",
       "      <th></th>\n",
       "      <th>URL</th>\n",
       "      <th>NAME</th>\n",
       "      <th>RATING</th>\n",
       "      <th>CONTENT</th>\n",
       "      <th>MENU</th>\n",
       "      <th>DATE</th>\n",
       "      <th>created_at</th>\n",
       "    </tr>\n",
       "  </thead>\n",
       "  <tbody>\n",
       "    <tr>\n",
       "      <th>0</th>\n",
       "      <td>https://s.baemin.com/9vx.diiu6</td>\n",
       "      <td>놀자비나리</td>\n",
       "      <td>5.0</td>\n",
       "      <td>맛있게먹었ㅇ니요</td>\n",
       "      <td>찐~목살김치찜</td>\n",
       "      <td>오늘</td>\n",
       "      <td>2024-07-29 18:06:19 +0900</td>\n",
       "    </tr>\n",
       "    <tr>\n",
       "      <th>1</th>\n",
       "      <td>https://s.baemin.com/9vx.diiu6</td>\n",
       "      <td>호평동</td>\n",
       "      <td>5.0</td>\n",
       "      <td>ㅂㅐ달도 빠르고 리뷰로 목살 추가했더니 고기가 김치보다 더 많아졌어요 ~~! 김치 ...</td>\n",
       "      <td>통삼겹김치찜[밥X, 반찬X]</td>\n",
       "      <td>오늘</td>\n",
       "      <td>2024-07-29 18:06:19 +0900</td>\n",
       "    </tr>\n",
       "    <tr>\n",
       "      <th>2</th>\n",
       "      <td>https://s.baemin.com/9vx.diiu6</td>\n",
       "      <td>깽미니</td>\n",
       "      <td>5.0</td>\n",
       "      <td>맛있네요  잘먹었습니다 \\n담에 시켜먹겠습니다</td>\n",
       "      <td>[1인분]목살김치찜</td>\n",
       "      <td>어제</td>\n",
       "      <td>2024-07-29 18:06:20 +0900</td>\n",
       "    </tr>\n",
       "    <tr>\n",
       "      <th>3</th>\n",
       "      <td>https://s.baemin.com/9vx.diiu6</td>\n",
       "      <td>칰힌칰힌</td>\n",
       "      <td>5.0</td>\n",
       "      <td>진짜 마시써요</td>\n",
       "      <td>찐~통삼겹김치찜</td>\n",
       "      <td>그제</td>\n",
       "      <td>2024-07-29 18:06:20 +0900</td>\n",
       "    </tr>\n",
       "    <tr>\n",
       "      <th>4</th>\n",
       "      <td>https://s.baemin.com/9vx.diiu6</td>\n",
       "      <td>핑돌</td>\n",
       "      <td>5.0</td>\n",
       "      <td>맛있게 잘먹었습니다 👍👍👍👍👍👍</td>\n",
       "      <td>[1인분]통삼겹김치찜</td>\n",
       "      <td>지난 주</td>\n",
       "      <td>2024-07-29 18:06:20 +0900</td>\n",
       "    </tr>\n",
       "  </tbody>\n",
       "</table>\n",
       "</div>"
      ],
      "text/plain": [
       "                              URL   NAME  RATING  \\\n",
       "0  https://s.baemin.com/9vx.diiu6  놀자비나리     5.0   \n",
       "1  https://s.baemin.com/9vx.diiu6    호평동     5.0   \n",
       "2  https://s.baemin.com/9vx.diiu6    깽미니     5.0   \n",
       "3  https://s.baemin.com/9vx.diiu6   칰힌칰힌     5.0   \n",
       "4  https://s.baemin.com/9vx.diiu6     핑돌     5.0   \n",
       "\n",
       "                                             CONTENT             MENU  DATE  \\\n",
       "0                                           맛있게먹었ㅇ니요          찐~목살김치찜    오늘   \n",
       "1  ㅂㅐ달도 빠르고 리뷰로 목살 추가했더니 고기가 김치보다 더 많아졌어요 ~~! 김치 ...  통삼겹김치찜[밥X, 반찬X]    오늘   \n",
       "2                          맛있네요  잘먹었습니다 \\n담에 시켜먹겠습니다       [1인분]목살김치찜    어제   \n",
       "3                                            진짜 마시써요         찐~통삼겹김치찜    그제   \n",
       "4                                  맛있게 잘먹었습니다 👍👍👍👍👍👍      [1인분]통삼겹김치찜  지난 주   \n",
       "\n",
       "                  created_at  \n",
       "0  2024-07-29 18:06:19 +0900  \n",
       "1  2024-07-29 18:06:19 +0900  \n",
       "2  2024-07-29 18:06:20 +0900  \n",
       "3  2024-07-29 18:06:20 +0900  \n",
       "4  2024-07-29 18:06:20 +0900  "
      ]
     },
     "execution_count": 33,
     "metadata": {},
     "output_type": "execute_result"
    }
   ],
   "source": [
    "import pandas as pd\n",
    "\n",
    "df = pd.read_excel('92년생김치찜.xlsx')\n",
    "df.head()"
   ]
  },
  {
   "cell_type": "markdown",
   "metadata": {},
   "source": [
    "(2) 결측치 확인하기"
   ]
  },
  {
   "cell_type": "code",
   "execution_count": 34,
   "metadata": {},
   "outputs": [
    {
     "data": {
      "text/plain": [
       "URL            0\n",
       "NAME           3\n",
       "RATING         3\n",
       "CONTENT       29\n",
       "MENU           7\n",
       "DATE           3\n",
       "created_at     3\n",
       "dtype: int64"
      ]
     },
     "execution_count": 34,
     "metadata": {},
     "output_type": "execute_result"
    }
   ],
   "source": [
    "# 결측치 확인\n",
    "df.isnull().sum()"
   ]
  },
  {
   "cell_type": "markdown",
   "metadata": {},
   "source": [
    "(3) 결측치 제거하기"
   ]
  },
  {
   "cell_type": "code",
   "execution_count": 35,
   "metadata": {},
   "outputs": [],
   "source": [
    "# 전체 칼럼에 있는 결측치 제거\n",
    "# 특정 칼럼에 있는 결측치 제거하고 싶을 때는 'df.dropna(subset=['칼럼명'])'\n",
    "df = df.dropna()"
   ]
  },
  {
   "cell_type": "markdown",
   "metadata": {},
   "source": [
    "(4) 재주문 고객 파악하기"
   ]
  },
  {
   "cell_type": "code",
   "execution_count": 36,
   "metadata": {},
   "outputs": [
    {
     "data": {
      "text/plain": [
       "NAME\n",
       "또르르르         3\n",
       "jjangtom     2\n",
       "eeen         2\n",
       "유정욱          2\n",
       "jw1472       2\n",
       "            ..\n",
       "입짧은고양이김태평    1\n",
       "이애교          1\n",
       "김진호          1\n",
       "까다로운입맛       1\n",
       "쀼우쀼우쀼우       1\n",
       "Name: count, Length: 67, dtype: int64"
      ]
     },
     "execution_count": 36,
     "metadata": {},
     "output_type": "execute_result"
    }
   ],
   "source": [
    "# 고객별 주문 횟수 계산(재주문 고객 파악)\n",
    "customer_order_counts = df['NAME'].value_counts()\n",
    "customer_order_counts"
   ]
  },
  {
   "cell_type": "markdown",
   "metadata": {},
   "source": [
    "(5) 재주문한 고객 수 확인하기"
   ]
  },
  {
   "cell_type": "code",
   "execution_count": 43,
   "metadata": {},
   "outputs": [
    {
     "name": "stdout",
     "output_type": "stream",
     "text": [
      "IS_REPURCHASE\n",
      "False    61\n",
      "True     13\n",
      "Name: count, dtype: int64\n"
     ]
    }
   ],
   "source": [
    "# 재구매 여부 확인\n",
    "# .get()으로 'customer_order_counts'데이터를 가져온다.\n",
    "# > 1 값을 충족하면, True를 반환한다. 충족하지 못하면 False를 반환한다.\n",
    "df['IS_REPURCHASE'] = df['NAME'].map(lambda x : customer_order_counts.get(x, 0) > 1)\n",
    "print(df['IS_REPURCHASE'].value_counts())"
   ]
  },
  {
   "cell_type": "markdown",
   "metadata": {},
   "source": [
    "(6) 재주문한 고객의 데이터만 따로 보기"
   ]
  },
  {
   "cell_type": "code",
   "execution_count": 44,
   "metadata": {},
   "outputs": [
    {
     "data": {
      "text/html": [
       "<div>\n",
       "<style scoped>\n",
       "    .dataframe tbody tr th:only-of-type {\n",
       "        vertical-align: middle;\n",
       "    }\n",
       "\n",
       "    .dataframe tbody tr th {\n",
       "        vertical-align: top;\n",
       "    }\n",
       "\n",
       "    .dataframe thead th {\n",
       "        text-align: right;\n",
       "    }\n",
       "</style>\n",
       "<table border=\"1\" class=\"dataframe\">\n",
       "  <thead>\n",
       "    <tr style=\"text-align: right;\">\n",
       "      <th></th>\n",
       "      <th>URL</th>\n",
       "      <th>NAME</th>\n",
       "      <th>RATING</th>\n",
       "      <th>CONTENT</th>\n",
       "      <th>MENU</th>\n",
       "      <th>DATE</th>\n",
       "      <th>created_at</th>\n",
       "      <th>IS_REPURCHASE</th>\n",
       "    </tr>\n",
       "  </thead>\n",
       "  <tbody>\n",
       "    <tr>\n",
       "      <th>8</th>\n",
       "      <td>https://s.baemin.com/9vx.diiu6</td>\n",
       "      <td>또르르르</td>\n",
       "      <td>5.0</td>\n",
       "      <td>너무맛나서 생각날때마다 시켜먹어요~\\n술안주로도 딱이네요</td>\n",
       "      <td>[1인분]두부김치찜</td>\n",
       "      <td>지난 주</td>\n",
       "      <td>2024-07-29 18:06:21 +0900</td>\n",
       "      <td>True</td>\n",
       "    </tr>\n",
       "    <tr>\n",
       "      <th>12</th>\n",
       "      <td>https://s.baemin.com/9vx.diiu6</td>\n",
       "      <td>jjangtom</td>\n",
       "      <td>5.0</td>\n",
       "      <td>기가 막힙니다! 맛 양 리뷰로 주신것 까지 아주 좋습니다!</td>\n",
       "      <td>[1인분]통삼겹김치찜</td>\n",
       "      <td>지난 주</td>\n",
       "      <td>2024-07-29 18:06:21 +0900</td>\n",
       "      <td>True</td>\n",
       "    </tr>\n",
       "    <tr>\n",
       "      <th>14</th>\n",
       "      <td>https://s.baemin.com/9vx.diiu6</td>\n",
       "      <td>eeen</td>\n",
       "      <td>5.0</td>\n",
       "      <td>이번엔 매운맛으로 시켜봤는데\\n진짜 맵네요 근데 너무 맛있어요!!!</td>\n",
       "      <td>[1인분]통삼겹김치찜</td>\n",
       "      <td>지난 주</td>\n",
       "      <td>2024-07-29 18:06:22 +0900</td>\n",
       "      <td>True</td>\n",
       "    </tr>\n",
       "    <tr>\n",
       "      <th>30</th>\n",
       "      <td>https://s.baemin.com/9vx.diiu6</td>\n",
       "      <td>꿀체</td>\n",
       "      <td>5.0</td>\n",
       "      <td>맛있게 잘먹었습니다\\n다음에 또 먹을게요~</td>\n",
       "      <td>[1인분]통삼겹김치찜</td>\n",
       "      <td>이번 달</td>\n",
       "      <td>2024-07-29 18:06:25 +0900</td>\n",
       "      <td>True</td>\n",
       "    </tr>\n",
       "    <tr>\n",
       "      <th>40</th>\n",
       "      <td>https://s.baemin.com/9vx.diiu6</td>\n",
       "      <td>유정욱</td>\n",
       "      <td>5.0</td>\n",
       "      <td>아...맛있어요 매운맛도 딱 좋습니다</td>\n",
       "      <td>찐~목살김치찜</td>\n",
       "      <td>이번 달</td>\n",
       "      <td>2024-07-29 18:06:27 +0900</td>\n",
       "      <td>True</td>\n",
       "    </tr>\n",
       "    <tr>\n",
       "      <th>41</th>\n",
       "      <td>https://s.baemin.com/9vx.diiu6</td>\n",
       "      <td>또르르르</td>\n",
       "      <td>5.0</td>\n",
       "      <td>너무 맛잇어서 주기적으로 계속 시켜먹고잇어요!!</td>\n",
       "      <td>[1인분]두부김치찜</td>\n",
       "      <td>이번 달</td>\n",
       "      <td>2024-07-29 18:06:27 +0900</td>\n",
       "      <td>True</td>\n",
       "    </tr>\n",
       "    <tr>\n",
       "      <th>43</th>\n",
       "      <td>https://s.baemin.com/9vx.diiu6</td>\n",
       "      <td>꿀체</td>\n",
       "      <td>5.0</td>\n",
       "      <td>배달 겁나 빠르네용\\n양도 푸짐하고 맛있어요\\n잘먹었습니다</td>\n",
       "      <td>[1인분]통삼겹김치찜</td>\n",
       "      <td>이번 달</td>\n",
       "      <td>2024-07-29 18:06:27 +0900</td>\n",
       "      <td>True</td>\n",
       "    </tr>\n",
       "    <tr>\n",
       "      <th>46</th>\n",
       "      <td>https://s.baemin.com/9vx.diiu6</td>\n",
       "      <td>jjangtom</td>\n",
       "      <td>5.0</td>\n",
       "      <td>정말 우리동네 최고 김치찜이에요~!\\n계란 2개 리뷰 도 좋아용~!</td>\n",
       "      <td>[1인분]통삼겹김치찜</td>\n",
       "      <td>이번 달</td>\n",
       "      <td>2024-07-29 18:06:28 +0900</td>\n",
       "      <td>True</td>\n",
       "    </tr>\n",
       "    <tr>\n",
       "      <th>57</th>\n",
       "      <td>https://s.baemin.com/9vx.diiu6</td>\n",
       "      <td>eeen</td>\n",
       "      <td>5.0</td>\n",
       "      <td>주문해서 먹어본 김치찜 중에\\n제일 맛있게 먹었어요👍🏻</td>\n",
       "      <td>[1인분]두부김치찜</td>\n",
       "      <td>이번 달</td>\n",
       "      <td>2024-07-29 18:06:32 +0900</td>\n",
       "      <td>True</td>\n",
       "    </tr>\n",
       "    <tr>\n",
       "      <th>62</th>\n",
       "      <td>https://s.baemin.com/9vx.diiu6</td>\n",
       "      <td>jw1472</td>\n",
       "      <td>5.0</td>\n",
       "      <td>두번째 시켰는데 고기도 많고 김치는 딱 알맞게 익어서 맛있게 먹었어요!</td>\n",
       "      <td>삼겹/목살 반반 김치찜</td>\n",
       "      <td>이번 달</td>\n",
       "      <td>2024-07-29 18:06:32 +0900</td>\n",
       "      <td>True</td>\n",
       "    </tr>\n",
       "    <tr>\n",
       "      <th>86</th>\n",
       "      <td>https://s.baemin.com/9vx.diiu6</td>\n",
       "      <td>유정욱</td>\n",
       "      <td>5.0</td>\n",
       "      <td>오..처음시켰는데 훌륭했습니다 맛있게 잘먹었습니다</td>\n",
       "      <td>찐~목살김치찜</td>\n",
       "      <td>지난 달, 수정됨</td>\n",
       "      <td>2024-07-29 18:06:38 +0900</td>\n",
       "      <td>True</td>\n",
       "    </tr>\n",
       "    <tr>\n",
       "      <th>87</th>\n",
       "      <td>https://s.baemin.com/9vx.diiu6</td>\n",
       "      <td>jw1472</td>\n",
       "      <td>5.0</td>\n",
       "      <td>밥 한공기 뚝딱!  간이 세지도 않고 딱 적당해서 맛있게 먹었습니다!</td>\n",
       "      <td>찐~목살김치찜</td>\n",
       "      <td>지난 달</td>\n",
       "      <td>2024-07-29 18:06:38 +0900</td>\n",
       "      <td>True</td>\n",
       "    </tr>\n",
       "    <tr>\n",
       "      <th>92</th>\n",
       "      <td>https://s.baemin.com/9vx.diiu6</td>\n",
       "      <td>또르르르</td>\n",
       "      <td>5.0</td>\n",
       "      <td>재주문이에요\\n너무 맛잇어요\\n두부를 워낙 좋아해서 추가했네요 ㅎㅎ\\n조만간 또 재...</td>\n",
       "      <td>[1인분]두부김치찜</td>\n",
       "      <td>지난 달</td>\n",
       "      <td>2024-07-29 18:06:39 +0900</td>\n",
       "      <td>True</td>\n",
       "    </tr>\n",
       "  </tbody>\n",
       "</table>\n",
       "</div>"
      ],
      "text/plain": [
       "                               URL      NAME  RATING  \\\n",
       "8   https://s.baemin.com/9vx.diiu6      또르르르     5.0   \n",
       "12  https://s.baemin.com/9vx.diiu6  jjangtom     5.0   \n",
       "14  https://s.baemin.com/9vx.diiu6      eeen     5.0   \n",
       "30  https://s.baemin.com/9vx.diiu6        꿀체     5.0   \n",
       "40  https://s.baemin.com/9vx.diiu6       유정욱     5.0   \n",
       "41  https://s.baemin.com/9vx.diiu6      또르르르     5.0   \n",
       "43  https://s.baemin.com/9vx.diiu6        꿀체     5.0   \n",
       "46  https://s.baemin.com/9vx.diiu6  jjangtom     5.0   \n",
       "57  https://s.baemin.com/9vx.diiu6      eeen     5.0   \n",
       "62  https://s.baemin.com/9vx.diiu6    jw1472     5.0   \n",
       "86  https://s.baemin.com/9vx.diiu6       유정욱     5.0   \n",
       "87  https://s.baemin.com/9vx.diiu6    jw1472     5.0   \n",
       "92  https://s.baemin.com/9vx.diiu6      또르르르     5.0   \n",
       "\n",
       "                                              CONTENT          MENU  \\\n",
       "8                     너무맛나서 생각날때마다 시켜먹어요~\\n술안주로도 딱이네요    [1인분]두부김치찜   \n",
       "12                   기가 막힙니다! 맛 양 리뷰로 주신것 까지 아주 좋습니다!   [1인분]통삼겹김치찜   \n",
       "14              이번엔 매운맛으로 시켜봤는데\\n진짜 맵네요 근데 너무 맛있어요!!!   [1인분]통삼겹김치찜   \n",
       "30                            맛있게 잘먹었습니다\\n다음에 또 먹을게요~   [1인분]통삼겹김치찜   \n",
       "40                               아...맛있어요 매운맛도 딱 좋습니다       찐~목살김치찜   \n",
       "41                         너무 맛잇어서 주기적으로 계속 시켜먹고잇어요!!    [1인분]두부김치찜   \n",
       "43                   배달 겁나 빠르네용\\n양도 푸짐하고 맛있어요\\n잘먹었습니다   [1인분]통삼겹김치찜   \n",
       "46              정말 우리동네 최고 김치찜이에요~!\\n계란 2개 리뷰 도 좋아용~!   [1인분]통삼겹김치찜   \n",
       "57                     주문해서 먹어본 김치찜 중에\\n제일 맛있게 먹었어요👍🏻    [1인분]두부김치찜   \n",
       "62            두번째 시켰는데 고기도 많고 김치는 딱 알맞게 익어서 맛있게 먹었어요!  삼겹/목살 반반 김치찜   \n",
       "86                        오..처음시켰는데 훌륭했습니다 맛있게 잘먹었습니다       찐~목살김치찜   \n",
       "87             밥 한공기 뚝딱!  간이 세지도 않고 딱 적당해서 맛있게 먹었습니다!       찐~목살김치찜   \n",
       "92  재주문이에요\\n너무 맛잇어요\\n두부를 워낙 좋아해서 추가했네요 ㅎㅎ\\n조만간 또 재...    [1인분]두부김치찜   \n",
       "\n",
       "         DATE                 created_at  IS_REPURCHASE  \n",
       "8        지난 주  2024-07-29 18:06:21 +0900           True  \n",
       "12       지난 주  2024-07-29 18:06:21 +0900           True  \n",
       "14       지난 주  2024-07-29 18:06:22 +0900           True  \n",
       "30       이번 달  2024-07-29 18:06:25 +0900           True  \n",
       "40       이번 달  2024-07-29 18:06:27 +0900           True  \n",
       "41       이번 달  2024-07-29 18:06:27 +0900           True  \n",
       "43       이번 달  2024-07-29 18:06:27 +0900           True  \n",
       "46       이번 달  2024-07-29 18:06:28 +0900           True  \n",
       "57       이번 달  2024-07-29 18:06:32 +0900           True  \n",
       "62       이번 달  2024-07-29 18:06:32 +0900           True  \n",
       "86  지난 달, 수정됨  2024-07-29 18:06:38 +0900           True  \n",
       "87       지난 달  2024-07-29 18:06:38 +0900           True  \n",
       "92       지난 달  2024-07-29 18:06:39 +0900           True  "
      ]
     },
     "execution_count": 44,
     "metadata": {},
     "output_type": "execute_result"
    }
   ],
   "source": [
    "# 재구매한 고객 데이터만 따로 보는 방법\n",
    "repurchase_customers = df[df['IS_REPURCHASE'] == True]\n",
    "repurchase_customers"
   ]
  },
  {
   "cell_type": "markdown",
   "metadata": {},
   "source": [
    "(7) 첫방문·재방문 고객을 직관적으로 확인하기"
   ]
  },
  {
   "cell_type": "code",
   "execution_count": 41,
   "metadata": {},
   "outputs": [
    {
     "name": "stdout",
     "output_type": "stream",
     "text": [
      "IS_REPURCHASE\n",
      "첫방문    61\n",
      "재방문    13\n",
      "Name: count, dtype: int64\n"
     ]
    }
   ],
   "source": [
    "#  False, True 값을 첫방문·재방문으로 변경하기.\n",
    "# .map()은 인자로 딕셔너리 값을 받는다.\n",
    "df['IS_REPURCHASE'] = df['IS_REPURCHASE'].map({False : '첫방문', True : '재방문'})\n",
    "print(df['IS_REPURCHASE'].value_counts())"
   ]
  }
 ],
 "metadata": {
  "kernelspec": {
   "display_name": "Python 3",
   "language": "python",
   "name": "python3"
  },
  "language_info": {
   "codemirror_mode": {
    "name": "ipython",
    "version": 3
   },
   "file_extension": ".py",
   "mimetype": "text/x-python",
   "name": "python",
   "nbconvert_exporter": "python",
   "pygments_lexer": "ipython3",
   "version": "3.12.4"
  }
 },
 "nbformat": 4,
 "nbformat_minor": 2
}
